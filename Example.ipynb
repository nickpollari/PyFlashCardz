{
 "cells": [
  {
   "cell_type": "code",
   "execution_count": 216,
   "metadata": {},
   "outputs": [
    {
     "data": {
      "application/vnd.jupyter.widget-view+json": {
       "model_id": "e5634a11a7584d1ab2951cf760ebd54e",
       "version_major": 2,
       "version_minor": 0
      },
      "text/plain": [
       "VBox(children=(HTML(value='\\n\\t\\t\\t\\t\\t\\t<font size=1px;!important>\\n\\t\\t\\t\\t\\t\\t\\n\\t\\t\\t\\t\\t\\tAuthor: nickpol…"
      ]
     },
     "metadata": {},
     "output_type": "display_data"
    }
   ],
   "source": [
    "import pyflashcards\n",
    "import importlib\n",
    "importlib.reload(pyflashcards)\n",
    "\n",
    "pres = pyflashcards.presenter.Presenter('AWS.csv')\n",
    "pres.get_application()"
   ]
  }
 ],
 "metadata": {
  "kernelspec": {
   "display_name": "Python 3",
   "language": "python",
   "name": "python3"
  },
  "language_info": {
   "codemirror_mode": {
    "name": "ipython",
    "version": 3
   },
   "file_extension": ".py",
   "mimetype": "text/x-python",
   "name": "python",
   "nbconvert_exporter": "python",
   "pygments_lexer": "ipython3",
   "version": "3.7.6"
  }
 },
 "nbformat": 4,
 "nbformat_minor": 4
}
